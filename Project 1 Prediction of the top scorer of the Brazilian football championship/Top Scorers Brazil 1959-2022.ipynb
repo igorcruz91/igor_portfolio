{
 "cells": [
  {
   "cell_type": "markdown",
   "id": "06b95cd6",
   "metadata": {},
   "source": [
    "Este projeto tem como objetivo utilizar de diferentes técnicas de machine learning para prever quantos gols o artilheiro do campeonato brasileiro fará. Primeiramente extrai-se os dados por meio do web scrappig, em seguida os dados são limpados e finalmente as técnicas de predição são aplicadas."
   ]
  },
  {
   "cell_type": "markdown",
   "id": "f56d122c",
   "metadata": {},
   "source": [
    "$\\textbf{Web Scrapping}$"
   ]
  },
  {
   "cell_type": "code",
   "execution_count": 1,
   "id": "7bc19c48",
   "metadata": {},
   "outputs": [],
   "source": [
    "import requests"
   ]
  },
  {
   "cell_type": "code",
   "execution_count": 2,
   "id": "ab3b3cad",
   "metadata": {},
   "outputs": [],
   "source": [
    "# URL do website em que faremos o scrapping\n",
    "url = \"https://pt.wikipedia.org/wiki/Lista_de_artilheiros_do_Campeonato_Brasileiro_de_Futebol#Por_edi%C3%A7%C3%A3o\""
   ]
  },
  {
   "cell_type": "code",
   "execution_count": 3,
   "id": "0f4bc282",
   "metadata": {},
   "outputs": [],
   "source": [
    "# Importando a página\n",
    "data = requests.get(url)"
   ]
  },
  {
   "cell_type": "code",
   "execution_count": 4,
   "id": "8f4c2c7a",
   "metadata": {},
   "outputs": [
    {
     "data": {
      "text/plain": [
       "<Response [200]>"
      ]
     },
     "execution_count": 4,
     "metadata": {},
     "output_type": "execute_result"
    }
   ],
   "source": [
    "data"
   ]
  },
  {
   "cell_type": "code",
   "execution_count": 5,
   "id": "1c02a9aa",
   "metadata": {},
   "outputs": [],
   "source": [
    "from bs4 import BeautifulSoup"
   ]
  },
  {
   "cell_type": "code",
   "execution_count": 6,
   "id": "df84d995",
   "metadata": {},
   "outputs": [],
   "source": [
    "soup = BeautifulSoup(data.text, 'html.parser')"
   ]
  },
  {
   "cell_type": "code",
   "execution_count": 7,
   "id": "54a6d99d",
   "metadata": {},
   "outputs": [],
   "source": [
    "tables = soup.find_all('table')"
   ]
  },
  {
   "cell_type": "code",
   "execution_count": 8,
   "id": "0ee52bc9",
   "metadata": {},
   "outputs": [],
   "source": [
    "tabela = tables[2]"
   ]
  },
  {
   "cell_type": "markdown",
   "id": "76fb87cc",
   "metadata": {},
   "source": [
    "$\\textbf{Data Cleaning}$"
   ]
  },
  {
   "cell_type": "code",
   "execution_count": 10,
   "id": "3df84f53",
   "metadata": {},
   "outputs": [],
   "source": [
    "import pandas as pd"
   ]
  },
  {
   "cell_type": "code",
   "execution_count": 11,
   "id": "d89fd5e9",
   "metadata": {},
   "outputs": [],
   "source": [
    "artilheiros = pd.read_html(str(tabela))[0]"
   ]
  },
  {
   "cell_type": "code",
   "execution_count": 12,
   "id": "d737f1f0",
   "metadata": {},
   "outputs": [
    {
     "data": {
      "text/html": [
       "<div>\n",
       "<style scoped>\n",
       "    .dataframe tbody tr th:only-of-type {\n",
       "        vertical-align: middle;\n",
       "    }\n",
       "\n",
       "    .dataframe tbody tr th {\n",
       "        vertical-align: top;\n",
       "    }\n",
       "\n",
       "    .dataframe thead th {\n",
       "        text-align: right;\n",
       "    }\n",
       "</style>\n",
       "<table border=\"1\" class=\"dataframe\">\n",
       "  <thead>\n",
       "    <tr style=\"text-align: right;\">\n",
       "      <th></th>\n",
       "      <th>Edição</th>\n",
       "      <th>Jogador</th>\n",
       "      <th>Nacionalidade</th>\n",
       "      <th>Clube</th>\n",
       "      <th>Gols</th>\n",
       "      <th>Jogos</th>\n",
       "      <th>Média</th>\n",
       "      <th>Ref.</th>\n",
       "    </tr>\n",
       "  </thead>\n",
       "  <tbody>\n",
       "    <tr>\n",
       "      <th>0</th>\n",
       "      <td>1959</td>\n",
       "      <td>Léo Briglia</td>\n",
       "      <td>Brasil</td>\n",
       "      <td>Bahia§</td>\n",
       "      <td>8</td>\n",
       "      <td>14</td>\n",
       "      <td>0.57</td>\n",
       "      <td>[8]</td>\n",
       "    </tr>\n",
       "    <tr>\n",
       "      <th>1</th>\n",
       "      <td>1960</td>\n",
       "      <td>Bececê</td>\n",
       "      <td>Brasil</td>\n",
       "      <td>Fortaleza</td>\n",
       "      <td>8</td>\n",
       "      <td>10</td>\n",
       "      <td>0.80</td>\n",
       "      <td>[9]</td>\n",
       "    </tr>\n",
       "    <tr>\n",
       "      <th>2</th>\n",
       "      <td>1961</td>\n",
       "      <td>Pelé</td>\n",
       "      <td>Brasil</td>\n",
       "      <td>Santos§</td>\n",
       "      <td>7</td>\n",
       "      <td>10</td>\n",
       "      <td>0.70</td>\n",
       "      <td>[10]</td>\n",
       "    </tr>\n",
       "    <tr>\n",
       "      <th>3</th>\n",
       "      <td>1962</td>\n",
       "      <td>Coutinho</td>\n",
       "      <td>Brasil</td>\n",
       "      <td>Santos§</td>\n",
       "      <td>7</td>\n",
       "      <td>5</td>\n",
       "      <td>1.40</td>\n",
       "      <td>[11]</td>\n",
       "    </tr>\n",
       "    <tr>\n",
       "      <th>4</th>\n",
       "      <td>1963</td>\n",
       "      <td>Ruiter</td>\n",
       "      <td>Brasil</td>\n",
       "      <td>Confiança</td>\n",
       "      <td>9</td>\n",
       "      <td>3</td>\n",
       "      <td>3.00</td>\n",
       "      <td>[12]</td>\n",
       "    </tr>\n",
       "    <tr>\n",
       "      <th>...</th>\n",
       "      <td>...</td>\n",
       "      <td>...</td>\n",
       "      <td>...</td>\n",
       "      <td>...</td>\n",
       "      <td>...</td>\n",
       "      <td>...</td>\n",
       "      <td>...</td>\n",
       "      <td>...</td>\n",
       "    </tr>\n",
       "    <tr>\n",
       "      <th>75</th>\n",
       "      <td>2019</td>\n",
       "      <td>Gabigol (2)</td>\n",
       "      <td>Brasil</td>\n",
       "      <td>Flamengo§</td>\n",
       "      <td>25</td>\n",
       "      <td>29</td>\n",
       "      <td>0.86</td>\n",
       "      <td>[81]</td>\n",
       "    </tr>\n",
       "    <tr>\n",
       "      <th>76</th>\n",
       "      <td>2020</td>\n",
       "      <td>Luciano</td>\n",
       "      <td>Brasil</td>\n",
       "      <td>São Paulo</td>\n",
       "      <td>18</td>\n",
       "      <td>32</td>\n",
       "      <td>0.56</td>\n",
       "      <td>[82]</td>\n",
       "    </tr>\n",
       "    <tr>\n",
       "      <th>77</th>\n",
       "      <td>2020</td>\n",
       "      <td>Claudinho</td>\n",
       "      <td>Brasil</td>\n",
       "      <td>Red Bull Bragantino</td>\n",
       "      <td>18</td>\n",
       "      <td>35</td>\n",
       "      <td>0.51</td>\n",
       "      <td>[83]</td>\n",
       "    </tr>\n",
       "    <tr>\n",
       "      <th>78</th>\n",
       "      <td>2021</td>\n",
       "      <td>Hulk</td>\n",
       "      <td>Brasil</td>\n",
       "      <td>Atlético Mineiro§</td>\n",
       "      <td>19</td>\n",
       "      <td>35</td>\n",
       "      <td>0.54</td>\n",
       "      <td>[84][85]</td>\n",
       "    </tr>\n",
       "    <tr>\n",
       "      <th>79</th>\n",
       "      <td>2022</td>\n",
       "      <td>Germán Cano</td>\n",
       "      <td>Argentina</td>\n",
       "      <td>Fluminense</td>\n",
       "      <td>26</td>\n",
       "      <td>38</td>\n",
       "      <td>0.68</td>\n",
       "      <td>[86]</td>\n",
       "    </tr>\n",
       "  </tbody>\n",
       "</table>\n",
       "<p>80 rows × 8 columns</p>\n",
       "</div>"
      ],
      "text/plain": [
       "   Edição      Jogador Nacionalidade                Clube Gols Jogos Média  \\\n",
       "0    1959  Léo Briglia        Brasil               Bahia§    8    14  0.57   \n",
       "1    1960       Bececê        Brasil            Fortaleza    8    10  0.80   \n",
       "2    1961         Pelé        Brasil              Santos§    7    10  0.70   \n",
       "3    1962     Coutinho        Brasil              Santos§    7     5  1.40   \n",
       "4    1963       Ruiter        Brasil            Confiança    9     3  3.00   \n",
       "..    ...          ...           ...                  ...  ...   ...   ...   \n",
       "75   2019  Gabigol (2)        Brasil            Flamengo§   25    29  0.86   \n",
       "76   2020      Luciano        Brasil            São Paulo   18    32  0.56   \n",
       "77   2020    Claudinho        Brasil  Red Bull Bragantino   18    35  0.51   \n",
       "78   2021         Hulk        Brasil    Atlético Mineiro§   19    35  0.54   \n",
       "79   2022  Germán Cano     Argentina           Fluminense   26    38  0.68   \n",
       "\n",
       "        Ref.  \n",
       "0        [8]  \n",
       "1        [9]  \n",
       "2       [10]  \n",
       "3       [11]  \n",
       "4       [12]  \n",
       "..       ...  \n",
       "75      [81]  \n",
       "76      [82]  \n",
       "77      [83]  \n",
       "78  [84][85]  \n",
       "79      [86]  \n",
       "\n",
       "[80 rows x 8 columns]"
      ]
     },
     "execution_count": 12,
     "metadata": {},
     "output_type": "execute_result"
    }
   ],
   "source": [
    "artilheiros"
   ]
  },
  {
   "cell_type": "code",
   "execution_count": 13,
   "id": "c145aba5",
   "metadata": {},
   "outputs": [
    {
     "data": {
      "text/plain": [
       "Edição           object\n",
       "Jogador          object\n",
       "Nacionalidade    object\n",
       "Clube            object\n",
       "Gols             object\n",
       "Jogos            object\n",
       "Média            object\n",
       "Ref.             object\n",
       "dtype: object"
      ]
     },
     "execution_count": 13,
     "metadata": {},
     "output_type": "execute_result"
    }
   ],
   "source": [
    "artilheiros.dtypes"
   ]
  },
  {
   "cell_type": "code",
   "execution_count": 14,
   "id": "16adcd74",
   "metadata": {},
   "outputs": [
    {
     "data": {
      "text/html": [
       "<div>\n",
       "<style scoped>\n",
       "    .dataframe tbody tr th:only-of-type {\n",
       "        vertical-align: middle;\n",
       "    }\n",
       "\n",
       "    .dataframe tbody tr th {\n",
       "        vertical-align: top;\n",
       "    }\n",
       "\n",
       "    .dataframe thead th {\n",
       "        text-align: right;\n",
       "    }\n",
       "</style>\n",
       "<table border=\"1\" class=\"dataframe\">\n",
       "  <thead>\n",
       "    <tr style=\"text-align: right;\">\n",
       "      <th></th>\n",
       "      <th>Edição</th>\n",
       "      <th>Jogador</th>\n",
       "      <th>Nacionalidade</th>\n",
       "      <th>Clube</th>\n",
       "      <th>Gols</th>\n",
       "      <th>Jogos</th>\n",
       "      <th>Média</th>\n",
       "      <th>Ref.</th>\n",
       "    </tr>\n",
       "  </thead>\n",
       "  <tbody>\n",
       "    <tr>\n",
       "      <th>0</th>\n",
       "      <td>1959</td>\n",
       "      <td>Léo Briglia</td>\n",
       "      <td>Brasil</td>\n",
       "      <td>Bahia§</td>\n",
       "      <td>8</td>\n",
       "      <td>14</td>\n",
       "      <td>0.57</td>\n",
       "      <td>[8]</td>\n",
       "    </tr>\n",
       "    <tr>\n",
       "      <th>1</th>\n",
       "      <td>1960</td>\n",
       "      <td>Bececê</td>\n",
       "      <td>Brasil</td>\n",
       "      <td>Fortaleza</td>\n",
       "      <td>8</td>\n",
       "      <td>10</td>\n",
       "      <td>0.80</td>\n",
       "      <td>[9]</td>\n",
       "    </tr>\n",
       "    <tr>\n",
       "      <th>2</th>\n",
       "      <td>1961</td>\n",
       "      <td>Pelé</td>\n",
       "      <td>Brasil</td>\n",
       "      <td>Santos§</td>\n",
       "      <td>7</td>\n",
       "      <td>10</td>\n",
       "      <td>0.70</td>\n",
       "      <td>[10]</td>\n",
       "    </tr>\n",
       "    <tr>\n",
       "      <th>3</th>\n",
       "      <td>1962</td>\n",
       "      <td>Coutinho</td>\n",
       "      <td>Brasil</td>\n",
       "      <td>Santos§</td>\n",
       "      <td>7</td>\n",
       "      <td>5</td>\n",
       "      <td>1.40</td>\n",
       "      <td>[11]</td>\n",
       "    </tr>\n",
       "    <tr>\n",
       "      <th>4</th>\n",
       "      <td>1963</td>\n",
       "      <td>Ruiter</td>\n",
       "      <td>Brasil</td>\n",
       "      <td>Confiança</td>\n",
       "      <td>9</td>\n",
       "      <td>3</td>\n",
       "      <td>3.00</td>\n",
       "      <td>[12]</td>\n",
       "    </tr>\n",
       "    <tr>\n",
       "      <th>5</th>\n",
       "      <td>1964</td>\n",
       "      <td>Pelé (2)</td>\n",
       "      <td>Brasil</td>\n",
       "      <td>Santos§</td>\n",
       "      <td>7</td>\n",
       "      <td>6</td>\n",
       "      <td>1.17</td>\n",
       "      <td>[10]</td>\n",
       "    </tr>\n",
       "    <tr>\n",
       "      <th>6</th>\n",
       "      <td>1965</td>\n",
       "      <td>Bita</td>\n",
       "      <td>Brasil</td>\n",
       "      <td>Náutico</td>\n",
       "      <td>9</td>\n",
       "      <td>9</td>\n",
       "      <td>1.00</td>\n",
       "      <td>[9][13]</td>\n",
       "    </tr>\n",
       "    <tr>\n",
       "      <th>7</th>\n",
       "      <td>1966</td>\n",
       "      <td>Toninho Guerreiro</td>\n",
       "      <td>Brasil</td>\n",
       "      <td>Santos</td>\n",
       "      <td>10</td>\n",
       "      <td>5</td>\n",
       "      <td>2.00</td>\n",
       "      <td>[10]</td>\n",
       "    </tr>\n",
       "    <tr>\n",
       "      <th>8</th>\n",
       "      <td>1966</td>\n",
       "      <td>Bita (2)</td>\n",
       "      <td>Brasil</td>\n",
       "      <td>Náutico</td>\n",
       "      <td>10</td>\n",
       "      <td>8</td>\n",
       "      <td>1.25</td>\n",
       "      <td>[14]</td>\n",
       "    </tr>\n",
       "    <tr>\n",
       "      <th>9</th>\n",
       "      <td>TB - 1967</td>\n",
       "      <td>Chicletes</td>\n",
       "      <td>Brasil</td>\n",
       "      <td>Treze</td>\n",
       "      <td>9</td>\n",
       "      <td>10</td>\n",
       "      <td>0.90</td>\n",
       "      <td>[15]</td>\n",
       "    </tr>\n",
       "    <tr>\n",
       "      <th>10</th>\n",
       "      <td>RGP - 1967</td>\n",
       "      <td>César Maluco</td>\n",
       "      <td>Brasil</td>\n",
       "      <td>Palmeiras§</td>\n",
       "      <td>15</td>\n",
       "      <td>10</td>\n",
       "      <td>1.50</td>\n",
       "      <td>[16]</td>\n",
       "    </tr>\n",
       "    <tr>\n",
       "      <th>11</th>\n",
       "      <td>RGP - 1967</td>\n",
       "      <td>Ademar Pantera</td>\n",
       "      <td>Brasil</td>\n",
       "      <td>Flamengo</td>\n",
       "      <td>15</td>\n",
       "      <td>14</td>\n",
       "      <td>1.07</td>\n",
       "      <td>[17]</td>\n",
       "    </tr>\n",
       "    <tr>\n",
       "      <th>12</th>\n",
       "      <td>TB - 1968</td>\n",
       "      <td>Ferretti</td>\n",
       "      <td>Brasil</td>\n",
       "      <td>Botafogo§</td>\n",
       "      <td>7</td>\n",
       "      <td>6</td>\n",
       "      <td>1.16</td>\n",
       "      <td>[18]</td>\n",
       "    </tr>\n",
       "    <tr>\n",
       "      <th>13</th>\n",
       "      <td>RGP - 1968</td>\n",
       "      <td>Toninho Guerreiro (2)</td>\n",
       "      <td>Brasil</td>\n",
       "      <td>Santos§</td>\n",
       "      <td>18</td>\n",
       "      <td>14</td>\n",
       "      <td>1.28</td>\n",
       "      <td>[19][20]</td>\n",
       "    </tr>\n",
       "    <tr>\n",
       "      <th>14</th>\n",
       "      <td>1969</td>\n",
       "      <td>Edu Coimbra</td>\n",
       "      <td>Brasil</td>\n",
       "      <td>America</td>\n",
       "      <td>14</td>\n",
       "      <td>9</td>\n",
       "      <td>1.55</td>\n",
       "      <td>[21]</td>\n",
       "    </tr>\n",
       "  </tbody>\n",
       "</table>\n",
       "</div>"
      ],
      "text/plain": [
       "        Edição                Jogador Nacionalidade       Clube Gols Jogos  \\\n",
       "0         1959            Léo Briglia        Brasil      Bahia§    8    14   \n",
       "1         1960                 Bececê        Brasil   Fortaleza    8    10   \n",
       "2         1961                   Pelé        Brasil     Santos§    7    10   \n",
       "3         1962               Coutinho        Brasil     Santos§    7     5   \n",
       "4         1963                 Ruiter        Brasil   Confiança    9     3   \n",
       "5         1964               Pelé (2)        Brasil     Santos§    7     6   \n",
       "6         1965                   Bita        Brasil     Náutico    9     9   \n",
       "7         1966      Toninho Guerreiro        Brasil      Santos   10     5   \n",
       "8         1966               Bita (2)        Brasil     Náutico   10     8   \n",
       "9    TB - 1967              Chicletes        Brasil       Treze    9    10   \n",
       "10  RGP - 1967           César Maluco        Brasil  Palmeiras§   15    10   \n",
       "11  RGP - 1967         Ademar Pantera        Brasil    Flamengo   15    14   \n",
       "12   TB - 1968               Ferretti        Brasil   Botafogo§    7     6   \n",
       "13  RGP - 1968  Toninho Guerreiro (2)        Brasil     Santos§   18    14   \n",
       "14        1969            Edu Coimbra        Brasil     America   14     9   \n",
       "\n",
       "   Média      Ref.  \n",
       "0   0.57       [8]  \n",
       "1   0.80       [9]  \n",
       "2   0.70      [10]  \n",
       "3   1.40      [11]  \n",
       "4   3.00      [12]  \n",
       "5   1.17      [10]  \n",
       "6   1.00   [9][13]  \n",
       "7   2.00      [10]  \n",
       "8   1.25      [14]  \n",
       "9   0.90      [15]  \n",
       "10  1.50      [16]  \n",
       "11  1.07      [17]  \n",
       "12  1.16      [18]  \n",
       "13  1.28  [19][20]  \n",
       "14  1.55      [21]  "
      ]
     },
     "execution_count": 14,
     "metadata": {},
     "output_type": "execute_result"
    }
   ],
   "source": [
    "artilheiros.head(15)"
   ]
  },
  {
   "cell_type": "code",
   "execution_count": 15,
   "id": "6611c830",
   "metadata": {},
   "outputs": [
    {
     "data": {
      "text/plain": [
       "count     80\n",
       "unique    23\n",
       "top       21\n",
       "freq       9\n",
       "Name: Gols, dtype: object"
      ]
     },
     "execution_count": 15,
     "metadata": {},
     "output_type": "execute_result"
    }
   ],
   "source": [
    "artilheiros['Gols'].describe()"
   ]
  },
  {
   "cell_type": "code",
   "execution_count": 16,
   "id": "63ca7f67",
   "metadata": {},
   "outputs": [],
   "source": [
    "artilheiros.loc[53, 'Gols'] = 34"
   ]
  },
  {
   "cell_type": "code",
   "execution_count": 17,
   "id": "b8773b6e",
   "metadata": {},
   "outputs": [],
   "source": [
    "artilheiros['Gols'] = artilheiros['Gols'].astype(int)"
   ]
  },
  {
   "cell_type": "code",
   "execution_count": 18,
   "id": "d1b12783",
   "metadata": {},
   "outputs": [],
   "source": [
    "artilheiros.loc[9, 'Edição'] = artilheiros.loc[9, 'Edição'].replace('TB - ', '')\n",
    "artilheiros.loc[10, 'Edição'] = artilheiros.loc[10, 'Edição'].replace('RGP - ', '')\n",
    "artilheiros.loc[11, 'Edição'] = artilheiros.loc[11, 'Edição'].replace('RGP - ', '')\n",
    "artilheiros.loc[12, 'Edição'] = artilheiros.loc[12, 'Edição'].replace('TB - ', '')\n",
    "artilheiros.loc[13, 'Edição'] = artilheiros.loc[13, 'Edição'].replace('RGP - ', '')"
   ]
  },
  {
   "cell_type": "code",
   "execution_count": 19,
   "id": "87b19932",
   "metadata": {},
   "outputs": [
    {
     "data": {
      "text/plain": [
       "0     1959\n",
       "1     1960\n",
       "2     1961\n",
       "3     1962\n",
       "4     1963\n",
       "      ... \n",
       "75    2019\n",
       "76    2020\n",
       "77    2020\n",
       "78    2021\n",
       "79    2022\n",
       "Name: Edição, Length: 80, dtype: int32"
      ]
     },
     "execution_count": 19,
     "metadata": {},
     "output_type": "execute_result"
    }
   ],
   "source": [
    "artilheiros['Edição'].astype(int)"
   ]
  },
  {
   "cell_type": "code",
   "execution_count": 20,
   "id": "35089cc4",
   "metadata": {},
   "outputs": [
    {
     "data": {
      "text/html": [
       "<div>\n",
       "<style scoped>\n",
       "    .dataframe tbody tr th:only-of-type {\n",
       "        vertical-align: middle;\n",
       "    }\n",
       "\n",
       "    .dataframe tbody tr th {\n",
       "        vertical-align: top;\n",
       "    }\n",
       "\n",
       "    .dataframe thead th {\n",
       "        text-align: right;\n",
       "    }\n",
       "</style>\n",
       "<table border=\"1\" class=\"dataframe\">\n",
       "  <thead>\n",
       "    <tr style=\"text-align: right;\">\n",
       "      <th></th>\n",
       "      <th>Edição</th>\n",
       "      <th>Jogador</th>\n",
       "      <th>Nacionalidade</th>\n",
       "      <th>Clube</th>\n",
       "      <th>Gols</th>\n",
       "      <th>Jogos</th>\n",
       "      <th>Média</th>\n",
       "      <th>Ref.</th>\n",
       "    </tr>\n",
       "  </thead>\n",
       "  <tbody>\n",
       "    <tr>\n",
       "      <th>0</th>\n",
       "      <td>1959</td>\n",
       "      <td>Léo Briglia</td>\n",
       "      <td>Brasil</td>\n",
       "      <td>Bahia§</td>\n",
       "      <td>8</td>\n",
       "      <td>14</td>\n",
       "      <td>0.57</td>\n",
       "      <td>[8]</td>\n",
       "    </tr>\n",
       "    <tr>\n",
       "      <th>1</th>\n",
       "      <td>1960</td>\n",
       "      <td>Bececê</td>\n",
       "      <td>Brasil</td>\n",
       "      <td>Fortaleza</td>\n",
       "      <td>8</td>\n",
       "      <td>10</td>\n",
       "      <td>0.80</td>\n",
       "      <td>[9]</td>\n",
       "    </tr>\n",
       "    <tr>\n",
       "      <th>2</th>\n",
       "      <td>1961</td>\n",
       "      <td>Pelé</td>\n",
       "      <td>Brasil</td>\n",
       "      <td>Santos§</td>\n",
       "      <td>7</td>\n",
       "      <td>10</td>\n",
       "      <td>0.70</td>\n",
       "      <td>[10]</td>\n",
       "    </tr>\n",
       "    <tr>\n",
       "      <th>3</th>\n",
       "      <td>1962</td>\n",
       "      <td>Coutinho</td>\n",
       "      <td>Brasil</td>\n",
       "      <td>Santos§</td>\n",
       "      <td>7</td>\n",
       "      <td>5</td>\n",
       "      <td>1.40</td>\n",
       "      <td>[11]</td>\n",
       "    </tr>\n",
       "    <tr>\n",
       "      <th>4</th>\n",
       "      <td>1963</td>\n",
       "      <td>Ruiter</td>\n",
       "      <td>Brasil</td>\n",
       "      <td>Confiança</td>\n",
       "      <td>9</td>\n",
       "      <td>3</td>\n",
       "      <td>3.00</td>\n",
       "      <td>[12]</td>\n",
       "    </tr>\n",
       "    <tr>\n",
       "      <th>5</th>\n",
       "      <td>1964</td>\n",
       "      <td>Pelé (2)</td>\n",
       "      <td>Brasil</td>\n",
       "      <td>Santos§</td>\n",
       "      <td>7</td>\n",
       "      <td>6</td>\n",
       "      <td>1.17</td>\n",
       "      <td>[10]</td>\n",
       "    </tr>\n",
       "    <tr>\n",
       "      <th>6</th>\n",
       "      <td>1965</td>\n",
       "      <td>Bita</td>\n",
       "      <td>Brasil</td>\n",
       "      <td>Náutico</td>\n",
       "      <td>9</td>\n",
       "      <td>9</td>\n",
       "      <td>1.00</td>\n",
       "      <td>[9][13]</td>\n",
       "    </tr>\n",
       "    <tr>\n",
       "      <th>7</th>\n",
       "      <td>1966</td>\n",
       "      <td>Toninho Guerreiro</td>\n",
       "      <td>Brasil</td>\n",
       "      <td>Santos</td>\n",
       "      <td>10</td>\n",
       "      <td>5</td>\n",
       "      <td>2.00</td>\n",
       "      <td>[10]</td>\n",
       "    </tr>\n",
       "    <tr>\n",
       "      <th>8</th>\n",
       "      <td>1966</td>\n",
       "      <td>Bita (2)</td>\n",
       "      <td>Brasil</td>\n",
       "      <td>Náutico</td>\n",
       "      <td>10</td>\n",
       "      <td>8</td>\n",
       "      <td>1.25</td>\n",
       "      <td>[14]</td>\n",
       "    </tr>\n",
       "    <tr>\n",
       "      <th>9</th>\n",
       "      <td>1967</td>\n",
       "      <td>Chicletes</td>\n",
       "      <td>Brasil</td>\n",
       "      <td>Treze</td>\n",
       "      <td>9</td>\n",
       "      <td>10</td>\n",
       "      <td>0.90</td>\n",
       "      <td>[15]</td>\n",
       "    </tr>\n",
       "    <tr>\n",
       "      <th>10</th>\n",
       "      <td>1967</td>\n",
       "      <td>César Maluco</td>\n",
       "      <td>Brasil</td>\n",
       "      <td>Palmeiras§</td>\n",
       "      <td>15</td>\n",
       "      <td>10</td>\n",
       "      <td>1.50</td>\n",
       "      <td>[16]</td>\n",
       "    </tr>\n",
       "    <tr>\n",
       "      <th>11</th>\n",
       "      <td>1967</td>\n",
       "      <td>Ademar Pantera</td>\n",
       "      <td>Brasil</td>\n",
       "      <td>Flamengo</td>\n",
       "      <td>15</td>\n",
       "      <td>14</td>\n",
       "      <td>1.07</td>\n",
       "      <td>[17]</td>\n",
       "    </tr>\n",
       "    <tr>\n",
       "      <th>12</th>\n",
       "      <td>1968</td>\n",
       "      <td>Ferretti</td>\n",
       "      <td>Brasil</td>\n",
       "      <td>Botafogo§</td>\n",
       "      <td>7</td>\n",
       "      <td>6</td>\n",
       "      <td>1.16</td>\n",
       "      <td>[18]</td>\n",
       "    </tr>\n",
       "    <tr>\n",
       "      <th>13</th>\n",
       "      <td>1968</td>\n",
       "      <td>Toninho Guerreiro (2)</td>\n",
       "      <td>Brasil</td>\n",
       "      <td>Santos§</td>\n",
       "      <td>18</td>\n",
       "      <td>14</td>\n",
       "      <td>1.28</td>\n",
       "      <td>[19][20]</td>\n",
       "    </tr>\n",
       "    <tr>\n",
       "      <th>14</th>\n",
       "      <td>1969</td>\n",
       "      <td>Edu Coimbra</td>\n",
       "      <td>Brasil</td>\n",
       "      <td>America</td>\n",
       "      <td>14</td>\n",
       "      <td>9</td>\n",
       "      <td>1.55</td>\n",
       "      <td>[21]</td>\n",
       "    </tr>\n",
       "  </tbody>\n",
       "</table>\n",
       "</div>"
      ],
      "text/plain": [
       "   Edição                Jogador Nacionalidade       Clube  Gols Jogos Média  \\\n",
       "0    1959            Léo Briglia        Brasil      Bahia§     8    14  0.57   \n",
       "1    1960                 Bececê        Brasil   Fortaleza     8    10  0.80   \n",
       "2    1961                   Pelé        Brasil     Santos§     7    10  0.70   \n",
       "3    1962               Coutinho        Brasil     Santos§     7     5  1.40   \n",
       "4    1963                 Ruiter        Brasil   Confiança     9     3  3.00   \n",
       "5    1964               Pelé (2)        Brasil     Santos§     7     6  1.17   \n",
       "6    1965                   Bita        Brasil     Náutico     9     9  1.00   \n",
       "7    1966      Toninho Guerreiro        Brasil      Santos    10     5  2.00   \n",
       "8    1966               Bita (2)        Brasil     Náutico    10     8  1.25   \n",
       "9    1967              Chicletes        Brasil       Treze     9    10  0.90   \n",
       "10   1967           César Maluco        Brasil  Palmeiras§    15    10  1.50   \n",
       "11   1967         Ademar Pantera        Brasil    Flamengo    15    14  1.07   \n",
       "12   1968               Ferretti        Brasil   Botafogo§     7     6  1.16   \n",
       "13   1968  Toninho Guerreiro (2)        Brasil     Santos§    18    14  1.28   \n",
       "14   1969            Edu Coimbra        Brasil     America    14     9  1.55   \n",
       "\n",
       "        Ref.  \n",
       "0        [8]  \n",
       "1        [9]  \n",
       "2       [10]  \n",
       "3       [11]  \n",
       "4       [12]  \n",
       "5       [10]  \n",
       "6    [9][13]  \n",
       "7       [10]  \n",
       "8       [14]  \n",
       "9       [15]  \n",
       "10      [16]  \n",
       "11      [17]  \n",
       "12      [18]  \n",
       "13  [19][20]  \n",
       "14      [21]  "
      ]
     },
     "execution_count": 20,
     "metadata": {},
     "output_type": "execute_result"
    }
   ],
   "source": [
    "artilheiros.head(15)"
   ]
  },
  {
   "cell_type": "code",
   "execution_count": 21,
   "id": "5f92fe86",
   "metadata": {},
   "outputs": [
    {
     "data": {
      "text/plain": [
       "(80,)"
      ]
     },
     "execution_count": 21,
     "metadata": {},
     "output_type": "execute_result"
    }
   ],
   "source": [
    "artilheiros['Edição'].shape"
   ]
  },
  {
   "cell_type": "markdown",
   "id": "7cc0c012",
   "metadata": {},
   "source": [
    "Vemos que em algumas edições do campeonato, houve mais de um artilheiro. Em alguns casos, como nos anos de 1967 e 1968, houve dois artilheiros com diferentes números de gols. Isso se deve ao fato de que o campeonato brasileiro seguia uma estrutura diferente da utilizada nos dias de hoje. Para contornar esse problema, selecionou-se o artilheiro com maior número de gols para cada edição."
   ]
  },
  {
   "cell_type": "code",
   "execution_count": 22,
   "id": "4625c542",
   "metadata": {},
   "outputs": [],
   "source": [
    "artilheiros['Edição'] = artilheiros['Edição'].drop_duplicates(keep='last')"
   ]
  },
  {
   "cell_type": "code",
   "execution_count": 23,
   "id": "56c9d6a0",
   "metadata": {},
   "outputs": [],
   "source": [
    "artilheiros = artilheiros.dropna(axis=0)"
   ]
  },
  {
   "cell_type": "code",
   "execution_count": 24,
   "id": "0b4fe738",
   "metadata": {},
   "outputs": [
    {
     "name": "stderr",
     "output_type": "stream",
     "text": [
      "<ipython-input-24-e923041a46bd>:1: SettingWithCopyWarning: \n",
      "A value is trying to be set on a copy of a slice from a DataFrame.\n",
      "Try using .loc[row_indexer,col_indexer] = value instead\n",
      "\n",
      "See the caveats in the documentation: https://pandas.pydata.org/pandas-docs/stable/user_guide/indexing.html#returning-a-view-versus-a-copy\n",
      "  artilheiros['Edição'] = artilheiros['Edição'].astype(int)\n"
     ]
    }
   ],
   "source": [
    "artilheiros['Edição'] = artilheiros['Edição'].astype(int)"
   ]
  },
  {
   "cell_type": "code",
   "execution_count": 25,
   "id": "635805e0",
   "metadata": {},
   "outputs": [],
   "source": [
    "artilheiros.loc[48, 'Edição']\n",
    "artilheiros = artilheiros.drop(48)"
   ]
  },
  {
   "cell_type": "code",
   "execution_count": 26,
   "id": "98d453b5",
   "metadata": {},
   "outputs": [],
   "source": [
    "artilheiros['Média'] = artilheiros['Média'].astype(float)\n",
    "artilheiros['Jogos'] = artilheiros['Jogos'].astype(int)"
   ]
  },
  {
   "cell_type": "markdown",
   "id": "c2aaa2c8",
   "metadata": {},
   "source": [
    "$\\textbf{Vizualização dos dados}$"
   ]
  },
  {
   "cell_type": "code",
   "execution_count": 27,
   "id": "8227697e",
   "metadata": {},
   "outputs": [
    {
     "data": {
      "text/plain": [
       "Gols      1.000000\n",
       "Jogos     0.715807\n",
       "Edição    0.572687\n",
       "Média    -0.109147\n",
       "Name: Gols, dtype: float64"
      ]
     },
     "execution_count": 27,
     "metadata": {},
     "output_type": "execute_result"
    }
   ],
   "source": [
    "artilheiros.corr()['Gols'].sort_values(ascending=False)"
   ]
  },
  {
   "cell_type": "code",
   "execution_count": 28,
   "id": "bc804f61",
   "metadata": {},
   "outputs": [],
   "source": [
    "import matplotlib.pyplot as plt"
   ]
  },
  {
   "cell_type": "code",
   "execution_count": 29,
   "id": "11df60a1",
   "metadata": {},
   "outputs": [
    {
     "data": {
      "image/png": "[encoded data removed]",
      "text/plain": [
       "<Figure size 432x288 with 1 Axes>"
      ]
     },
     "metadata": {
      "needs_background": "light"
     },
     "output_type": "display_data"
    },
    {
     "data": {
      "text/plain": [
       "<Figure size 432x288 with 0 Axes>"
      ]
     },
     "metadata": {},
     "output_type": "display_data"
    },
    {
     "data": {
      "text/plain": [
       "<Figure size 432x288 with 0 Axes>"
      ]
     },
     "metadata": {},
     "output_type": "display_data"
    }
   ],
   "source": [
    "plt.scatter(artilheiros['Edição'], artilheiros['Gols'])\n",
    "plt.xlabel('Year')\n",
    "plt.ylabel('Goals')\n",
    "plt.grid()\n",
    "plt.figure(facecolor='white')\n",
    "plt.show()\n",
    "plt.savefig('gols.png')"
   ]
  },
  {
   "cell_type": "code",
   "execution_count": 30,
   "id": "98907326",
   "metadata": {},
   "outputs": [
    {
     "data": {
      "image/png": "[encoded data removed]",
      "text/plain": [
       "<Figure size 432x288 with 1 Axes>"
      ]
     },
     "metadata": {
      "needs_background": "light"
     },
     "output_type": "display_data"
    }
   ],
   "source": [
    "plt.scatter(artilheiros['Edição'], artilheiros['Média'])\n",
    "plt.xlabel('Year')\n",
    "plt.ylabel('Goal Average')\n",
    "plt.grid()\n",
    "plt.show()"
   ]
  },
  {
   "cell_type": "code",
   "execution_count": 31,
   "id": "9fa19f8f",
   "metadata": {},
   "outputs": [
    {
     "data": {
      "image/png": "[encoded data removed]",
      "text/plain": [
       "<Figure size 432x288 with 1 Axes>"
      ]
     },
     "metadata": {
      "needs_background": "light"
     },
     "output_type": "display_data"
    }
   ],
   "source": [
    "plt.scatter(artilheiros['Edição'], artilheiros['Jogos'])\n",
    "plt.xlabel('Year')\n",
    "plt.ylabel('Games Played')\n",
    "plt.grid()\n",
    "plt.show()"
   ]
  },
  {
   "cell_type": "markdown",
   "id": "49a8689c",
   "metadata": {},
   "source": [
    "$\\textbf{Machine Learning Models}$"
   ]
  },
  {
   "cell_type": "markdown",
   "id": "abe905b6",
   "metadata": {},
   "source": [
    "Utilizaremos modelos de predição, uma vez que o objetivo do projeto é prever quantos gols os artilheiros do campeonato brasileiro marcarão, e comparar as predições com os valores reais."
   ]
  },
  {
   "cell_type": "code",
   "execution_count": 32,
   "id": "906f08fe",
   "metadata": {},
   "outputs": [
    {
     "data": {
      "text/html": [
       "<div>\n",
       "<style scoped>\n",
       "    .dataframe tbody tr th:only-of-type {\n",
       "        vertical-align: middle;\n",
       "    }\n",
       "\n",
       "    .dataframe tbody tr th {\n",
       "        vertical-align: top;\n",
       "    }\n",
       "\n",
       "    .dataframe thead th {\n",
       "        text-align: right;\n",
       "    }\n",
       "</style>\n",
       "<table border=\"1\" class=\"dataframe\">\n",
       "  <thead>\n",
       "    <tr style=\"text-align: right;\">\n",
       "      <th></th>\n",
       "      <th>Edição</th>\n",
       "      <th>Jogador</th>\n",
       "      <th>Nacionalidade</th>\n",
       "      <th>Clube</th>\n",
       "      <th>Gols</th>\n",
       "      <th>Jogos</th>\n",
       "      <th>Média</th>\n",
       "      <th>Ref.</th>\n",
       "    </tr>\n",
       "  </thead>\n",
       "  <tbody>\n",
       "    <tr>\n",
       "      <th>0</th>\n",
       "      <td>1959</td>\n",
       "      <td>Léo Briglia</td>\n",
       "      <td>Brasil</td>\n",
       "      <td>Bahia§</td>\n",
       "      <td>8</td>\n",
       "      <td>14</td>\n",
       "      <td>0.57</td>\n",
       "      <td>[8]</td>\n",
       "    </tr>\n",
       "    <tr>\n",
       "      <th>1</th>\n",
       "      <td>1960</td>\n",
       "      <td>Bececê</td>\n",
       "      <td>Brasil</td>\n",
       "      <td>Fortaleza</td>\n",
       "      <td>8</td>\n",
       "      <td>10</td>\n",
       "      <td>0.80</td>\n",
       "      <td>[9]</td>\n",
       "    </tr>\n",
       "    <tr>\n",
       "      <th>2</th>\n",
       "      <td>1961</td>\n",
       "      <td>Pelé</td>\n",
       "      <td>Brasil</td>\n",
       "      <td>Santos§</td>\n",
       "      <td>7</td>\n",
       "      <td>10</td>\n",
       "      <td>0.70</td>\n",
       "      <td>[10]</td>\n",
       "    </tr>\n",
       "    <tr>\n",
       "      <th>3</th>\n",
       "      <td>1962</td>\n",
       "      <td>Coutinho</td>\n",
       "      <td>Brasil</td>\n",
       "      <td>Santos§</td>\n",
       "      <td>7</td>\n",
       "      <td>5</td>\n",
       "      <td>1.40</td>\n",
       "      <td>[11]</td>\n",
       "    </tr>\n",
       "    <tr>\n",
       "      <th>4</th>\n",
       "      <td>1963</td>\n",
       "      <td>Ruiter</td>\n",
       "      <td>Brasil</td>\n",
       "      <td>Confiança</td>\n",
       "      <td>9</td>\n",
       "      <td>3</td>\n",
       "      <td>3.00</td>\n",
       "      <td>[12]</td>\n",
       "    </tr>\n",
       "  </tbody>\n",
       "</table>\n",
       "</div>"
      ],
      "text/plain": [
       "   Edição      Jogador Nacionalidade      Clube  Gols  Jogos  Média  Ref.\n",
       "0    1959  Léo Briglia        Brasil     Bahia§     8     14   0.57   [8]\n",
       "1    1960       Bececê        Brasil  Fortaleza     8     10   0.80   [9]\n",
       "2    1961         Pelé        Brasil    Santos§     7     10   0.70  [10]\n",
       "3    1962     Coutinho        Brasil    Santos§     7      5   1.40  [11]\n",
       "4    1963       Ruiter        Brasil  Confiança     9      3   3.00  [12]"
      ]
     },
     "execution_count": 32,
     "metadata": {},
     "output_type": "execute_result"
    }
   ],
   "source": [
    "artilheiros.head()"
   ]
  },
  {
   "cell_type": "code",
   "execution_count": 33,
   "id": "e4d9cdac",
   "metadata": {},
   "outputs": [
    {
     "data": {
      "text/html": [
       "<div>\n",
       "<style scoped>\n",
       "    .dataframe tbody tr th:only-of-type {\n",
       "        vertical-align: middle;\n",
       "    }\n",
       "\n",
       "    .dataframe tbody tr th {\n",
       "        vertical-align: top;\n",
       "    }\n",
       "\n",
       "    .dataframe thead th {\n",
       "        text-align: right;\n",
       "    }\n",
       "</style>\n",
       "<table border=\"1\" class=\"dataframe\">\n",
       "  <thead>\n",
       "    <tr style=\"text-align: right;\">\n",
       "      <th></th>\n",
       "      <th>Edição</th>\n",
       "      <th>Gols</th>\n",
       "      <th>Jogos</th>\n",
       "      <th>Média</th>\n",
       "    </tr>\n",
       "  </thead>\n",
       "  <tbody>\n",
       "    <tr>\n",
       "      <th>0</th>\n",
       "      <td>1959</td>\n",
       "      <td>8</td>\n",
       "      <td>14</td>\n",
       "      <td>0.57</td>\n",
       "    </tr>\n",
       "    <tr>\n",
       "      <th>1</th>\n",
       "      <td>1960</td>\n",
       "      <td>8</td>\n",
       "      <td>10</td>\n",
       "      <td>0.80</td>\n",
       "    </tr>\n",
       "    <tr>\n",
       "      <th>2</th>\n",
       "      <td>1961</td>\n",
       "      <td>7</td>\n",
       "      <td>10</td>\n",
       "      <td>0.70</td>\n",
       "    </tr>\n",
       "    <tr>\n",
       "      <th>3</th>\n",
       "      <td>1962</td>\n",
       "      <td>7</td>\n",
       "      <td>5</td>\n",
       "      <td>1.40</td>\n",
       "    </tr>\n",
       "    <tr>\n",
       "      <th>4</th>\n",
       "      <td>1963</td>\n",
       "      <td>9</td>\n",
       "      <td>3</td>\n",
       "      <td>3.00</td>\n",
       "    </tr>\n",
       "  </tbody>\n",
       "</table>\n",
       "</div>"
      ],
      "text/plain": [
       "   Edição  Gols  Jogos  Média\n",
       "0    1959     8     14   0.57\n",
       "1    1960     8     10   0.80\n",
       "2    1961     7     10   0.70\n",
       "3    1962     7      5   1.40\n",
       "4    1963     9      3   3.00"
      ]
     },
     "execution_count": 33,
     "metadata": {},
     "output_type": "execute_result"
    }
   ],
   "source": [
    "df = artilheiros[['Edição', 'Gols', 'Jogos', 'Média']]\n",
    "df.head()"
   ]
  },
  {
   "cell_type": "code",
   "execution_count": 34,
   "id": "42881c56",
   "metadata": {},
   "outputs": [
    {
     "data": {
      "text/plain": [
       "(63, 4)"
      ]
     },
     "execution_count": 34,
     "metadata": {},
     "output_type": "execute_result"
    }
   ],
   "source": [
    "df.shape"
   ]
  },
  {
   "cell_type": "code",
   "execution_count": 35,
   "id": "3e0ec192",
   "metadata": {},
   "outputs": [],
   "source": [
    "from sklearn.model_selection import train_test_split\n",
    "from sklearn.linear_model import LinearRegression\n",
    "from sklearn.linear_model import LogisticRegression\n",
    "from sklearn.neighbors import KNeighborsRegressor\n",
    "from sklearn.ensemble import RandomForestRegressor\n",
    "from sklearn.metrics import mean_squared_error"
   ]
  },
  {
   "cell_type": "code",
   "execution_count": 36,
   "id": "c0017995",
   "metadata": {},
   "outputs": [],
   "source": [
    "features = ['Edição', 'Jogos', 'Média']\n",
    "target = 'Gols'\n",
    "\n",
    "all_X = df[features]\n",
    "all_y = df[target]\n",
    "\n",
    "train_X, test_X, train_y, test_y = train_test_split(\n",
    "    all_X, all_y, test_size=0.2, random_state=42)"
   ]
  },
  {
   "cell_type": "code",
   "execution_count": 37,
   "id": "b0772c35",
   "metadata": {},
   "outputs": [],
   "source": [
    "import numpy as np"
   ]
  },
  {
   "cell_type": "code",
   "execution_count": 38,
   "id": "0800e1b7",
   "metadata": {},
   "outputs": [
    {
     "name": "stdout",
     "output_type": "stream",
     "text": [
      "3.3109400033872824\n",
      "4.009603855360661\n",
      "3.541837854083016\n",
      "2.175826986900171\n"
     ]
    },
    {
     "name": "stderr",
     "output_type": "stream",
     "text": [
      "C:\\Users\\igorc\\anaconda3\\lib\\site-packages\\sklearn\\linear_model\\_logistic.py:458: ConvergenceWarning: lbfgs failed to converge (status=1):\n",
      "STOP: TOTAL NO. of ITERATIONS REACHED LIMIT.\n",
      "\n",
      "Increase the number of iterations (max_iter) or scale the data as shown in:\n",
      "    https://scikit-learn.org/stable/modules/preprocessing.html\n",
      "Please also refer to the documentation for alternative solver options:\n",
      "    https://scikit-learn.org/stable/modules/linear_model.html#logistic-regression\n",
      "  n_iter_i = _check_optimize_result(\n"
     ]
    }
   ],
   "source": [
    "# Instantiating the models\n",
    "linreg = LinearRegression()\n",
    "lr = LogisticRegression()\n",
    "knn = KNeighborsRegressor()\n",
    "rf = RandomForestRegressor()\n",
    "\n",
    "# Fitting the models\n",
    "linreg.fit(train_X, train_y)\n",
    "lr.fit(train_X, train_y)\n",
    "knn.fit(train_X, train_y)\n",
    "rf.fit(train_X, train_y)\n",
    "\n",
    "# Predicting \n",
    "pred_linreg = linreg.predict(test_X)\n",
    "pred_lr = lr.predict(test_X)\n",
    "pred_knn = knn.predict(test_X)\n",
    "pred_rf = rf.predict(test_X)\n",
    "\n",
    "# Calculating the RMSE for each model\n",
    "\n",
    "mse_linreg = mean_squared_error(test_y, pred_linreg)\n",
    "rmse_linreg = np.sqrt(mse_linreg)\n",
    "\n",
    "mse_lr = mean_squared_error(test_y, pred_lr)\n",
    "rmse_lr = np.sqrt(mse_lr)\n",
    "\n",
    "mse_knn = mean_squared_error(test_y, pred_knn)\n",
    "rmse_knn = np.sqrt(mse_knn)\n",
    "\n",
    "mse_rf = mean_squared_error(test_y, pred_rf)\n",
    "rmse_rf = np.sqrt(mse_rf)\n",
    "\n",
    "print(rmse_linreg)\n",
    "print(rmse_lr)\n",
    "print(rmse_knn)\n",
    "print(rmse_rf)"
   ]
  },
  {
   "cell_type": "markdown",
   "id": "45b6c024",
   "metadata": {},
   "source": [
    "Vemos que o modelo de Random Forest obteve o menor valor de RMSE, de aproximadamente 2.4 gols."
   ]
  },
  {
   "cell_type": "markdown",
   "id": "3353c663",
   "metadata": {},
   "source": [
    "$\\textbf{Creating a dataframe to visualize the RMSEs}$"
   ]
  },
  {
   "cell_type": "code",
   "execution_count": 39,
   "id": "abda2143",
   "metadata": {},
   "outputs": [
    {
     "data": {
      "text/html": [
       "<div>\n",
       "<style scoped>\n",
       "    .dataframe tbody tr th:only-of-type {\n",
       "        vertical-align: middle;\n",
       "    }\n",
       "\n",
       "    .dataframe tbody tr th {\n",
       "        vertical-align: top;\n",
       "    }\n",
       "\n",
       "    .dataframe thead th {\n",
       "        text-align: right;\n",
       "    }\n",
       "</style>\n",
       "<table border=\"1\" class=\"dataframe\">\n",
       "  <thead>\n",
       "    <tr style=\"text-align: right;\">\n",
       "      <th></th>\n",
       "      <th>RMSE</th>\n",
       "    </tr>\n",
       "  </thead>\n",
       "  <tbody>\n",
       "    <tr>\n",
       "      <th>Random Forest</th>\n",
       "      <td>2.175827</td>\n",
       "    </tr>\n",
       "    <tr>\n",
       "      <th>Linear Regression</th>\n",
       "      <td>3.310940</td>\n",
       "    </tr>\n",
       "    <tr>\n",
       "      <th>KNeighbors</th>\n",
       "      <td>3.541838</td>\n",
       "    </tr>\n",
       "    <tr>\n",
       "      <th>Logistic Regression</th>\n",
       "      <td>4.009604</td>\n",
       "    </tr>\n",
       "  </tbody>\n",
       "</table>\n",
       "</div>"
      ],
      "text/plain": [
       "                         RMSE\n",
       "Random Forest        2.175827\n",
       "Linear Regression    3.310940\n",
       "KNeighbors           3.541838\n",
       "Logistic Regression  4.009604"
      ]
     },
     "execution_count": 39,
     "metadata": {},
     "output_type": "execute_result"
    }
   ],
   "source": [
    "d = {'RMSE': [rmse_linreg, rmse_lr, rmse_knn, rmse_rf]}\n",
    "\n",
    "data = pd.DataFrame(data=d, index=['Linear Regression', 'Logistic Regression', 'KNeighbors', 'Random Forest'])\n",
    "data.sort_values(by = 'RMSE', ascending=True)"
   ]
  },
  {
   "cell_type": "code",
   "execution_count": 40,
   "id": "57182699",
   "metadata": {},
   "outputs": [],
   "source": [
    "import dataframe_image as dfi"
   ]
  },
  {
   "cell_type": "code",
   "execution_count": 41,
   "id": "3d1bf312",
   "metadata": {},
   "outputs": [],
   "source": [
    "dfi.export(data, 'dataframe.png')"
   ]
  }
 ],
 "metadata": {
  "kernelspec": {
   "display_name": "Python 3",
   "language": "python",
   "name": "python3"
  },
  "language_info": {
   "codemirror_mode": {
    "name": "ipython",
    "version": 3
   },
   "file_extension": ".py",
   "mimetype": "text/x-python",
   "name": "python",
   "nbconvert_exporter": "python",
   "pygments_lexer": "ipython3",
   "version": "3.8.8"
  }
 },
 "nbformat": 4,
 "nbformat_minor": 5
}
